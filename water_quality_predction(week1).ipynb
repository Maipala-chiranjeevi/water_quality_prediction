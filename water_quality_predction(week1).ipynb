{
  "nbformat": 4,
  "nbformat_minor": 0,
  "metadata": {
    "colab": {
      "provenance": []
    },
    "kernelspec": {
      "name": "python3",
      "display_name": "Python 3"
    },
    "language_info": {
      "name": "python"
    }
  },
  "cells": [
    {
      "cell_type": "code",
      "source": [
        "pip install pandas numpy matplotlib seaborn scikit-learn"
      ],
      "metadata": {
        "id": "h0oVJm-LFFsW",
        "colab": {
          "base_uri": "https://localhost:8080/"
        },
        "outputId": "ec5e1110-b030-4bde-fb19-bcfbc36d4501"
      },
      "execution_count": 3,
      "outputs": [
        {
          "output_type": "stream",
          "name": "stdout",
          "text": [
            "Requirement already satisfied: pandas in /usr/local/lib/python3.11/dist-packages (2.2.2)\n",
            "Requirement already satisfied: numpy in /usr/local/lib/python3.11/dist-packages (2.0.2)\n",
            "Requirement already satisfied: matplotlib in /usr/local/lib/python3.11/dist-packages (3.10.0)\n",
            "Requirement already satisfied: seaborn in /usr/local/lib/python3.11/dist-packages (0.13.2)\n",
            "Requirement already satisfied: scikit-learn in /usr/local/lib/python3.11/dist-packages (1.6.1)\n",
            "Requirement already satisfied: python-dateutil>=2.8.2 in /usr/local/lib/python3.11/dist-packages (from pandas) (2.9.0.post0)\n",
            "Requirement already satisfied: pytz>=2020.1 in /usr/local/lib/python3.11/dist-packages (from pandas) (2025.2)\n",
            "Requirement already satisfied: tzdata>=2022.7 in /usr/local/lib/python3.11/dist-packages (from pandas) (2025.2)\n",
            "Requirement already satisfied: contourpy>=1.0.1 in /usr/local/lib/python3.11/dist-packages (from matplotlib) (1.3.2)\n",
            "Requirement already satisfied: cycler>=0.10 in /usr/local/lib/python3.11/dist-packages (from matplotlib) (0.12.1)\n",
            "Requirement already satisfied: fonttools>=4.22.0 in /usr/local/lib/python3.11/dist-packages (from matplotlib) (4.58.4)\n",
            "Requirement already satisfied: kiwisolver>=1.3.1 in /usr/local/lib/python3.11/dist-packages (from matplotlib) (1.4.8)\n",
            "Requirement already satisfied: packaging>=20.0 in /usr/local/lib/python3.11/dist-packages (from matplotlib) (24.2)\n",
            "Requirement already satisfied: pillow>=8 in /usr/local/lib/python3.11/dist-packages (from matplotlib) (11.2.1)\n",
            "Requirement already satisfied: pyparsing>=2.3.1 in /usr/local/lib/python3.11/dist-packages (from matplotlib) (3.2.3)\n",
            "Requirement already satisfied: scipy>=1.6.0 in /usr/local/lib/python3.11/dist-packages (from scikit-learn) (1.15.3)\n",
            "Requirement already satisfied: joblib>=1.2.0 in /usr/local/lib/python3.11/dist-packages (from scikit-learn) (1.5.1)\n",
            "Requirement already satisfied: threadpoolctl>=3.1.0 in /usr/local/lib/python3.11/dist-packages (from scikit-learn) (3.6.0)\n",
            "Requirement already satisfied: six>=1.5 in /usr/local/lib/python3.11/dist-packages (from python-dateutil>=2.8.2->pandas) (1.17.0)\n"
          ]
        }
      ]
    },
    {
      "cell_type": "code",
      "source": [
        "import pandas as pd  # Data manipulation\n",
        "import numpy as np   # Numerical operations\n",
        "\n",
        "# Load the dataset\n",
        "df = pd.read_csv('PB_All_2000_2021.csv', sep=';')\n",
        "\n",
        "# Basic overview\n",
        "print(\"Shape:\", df.shape)\n",
        "print(\"\\nMissing values:\\n\", df.isnull().sum())\n",
        "print(\"\\nSummary statistics:\\n\", df.describe())\n",
        "\n",
        "# Convert 'date' column to datetime format\n",
        "df['date'] = pd.to_datetime(df['date'], format='%d.%m.%Y')\n",
        "\n",
        "# Sort the data by 'id' and 'date'\n",
        "df.sort_values(by=['id', 'date'], inplace=True)\n",
        "\n",
        "# Show first few rows\n",
        "print(\"\\nFirst few rows:\\n\", df.head())\n",
        "\n",
        "# Display column names\n",
        "print(\"\\nColumns:\\n\", df.columns.tolist())\n",
        "\n",
        "# Define pollutant columns of interest\n",
        "pollutants = ['O2', 'NO3', 'NO2', 'SO4', 'PO4', 'CL']\n"
      ],
      "metadata": {
        "id": "8HIHGLlQFTxq",
        "colab": {
          "base_uri": "https://localhost:8080/"
        },
        "outputId": "752e45d8-53cc-44e7-9ef0-7289382e55e4"
      },
      "execution_count": 4,
      "outputs": [
        {
          "output_type": "stream",
          "name": "stdout",
          "text": [
            "Shape: (2861, 11)\n",
            "\n",
            "Missing values:\n",
            " id            0\n",
            "date          0\n",
            "NH4           3\n",
            "BSK5          1\n",
            "Suspended    16\n",
            "O2            3\n",
            "NO3           1\n",
            "NO2           3\n",
            "SO4          49\n",
            "PO4          28\n",
            "CL           49\n",
            "dtype: int64\n",
            "\n",
            "Summary statistics:\n",
            "                 id          NH4         BSK5    Suspended           O2  \\\n",
            "count  2861.000000  2858.000000  2860.000000  2845.000000  2858.000000   \n",
            "mean     12.397064     0.758734     4.316182    12.931905     9.508902   \n",
            "std       6.084226     2.486247     2.973997    16.543097     4.428260   \n",
            "min       1.000000     0.000000     0.000000     0.000000     0.000000   \n",
            "25%       8.000000     0.080000     2.160000     6.000000     7.092500   \n",
            "50%      14.000000     0.220000     3.800000    10.000000     8.995000   \n",
            "75%      16.000000     0.500000     5.800000    15.000000    11.520000   \n",
            "max      22.000000    39.427000    50.900000   595.000000    90.000000   \n",
            "\n",
            "               NO3          NO2          SO4          PO4           CL  \n",
            "count  2860.000000  2858.000000  2812.000000  2833.000000  2812.000000  \n",
            "mean      4.316846     0.246128    59.362313     0.418626    93.731991  \n",
            "std       6.881188     2.182777    96.582641     0.771326   394.512184  \n",
            "min       0.000000     0.000000     0.000000     0.000000     0.020000  \n",
            "25%       1.390000     0.030000    27.052500     0.130000    26.800000  \n",
            "50%       2.800000     0.059000    37.800000     0.270000    33.900000  \n",
            "75%       5.582500     0.125750    64.640000     0.470000    45.607500  \n",
            "max     133.400000   109.000000  3573.400000    13.879000  5615.280000  \n",
            "\n",
            "First few rows:\n",
            "    id       date    NH4  BSK5  Suspended     O2    NO3    NO2    SO4    PO4  \\\n",
            "0   1 2000-02-17  0.330  2.77       12.0  12.30   9.50  0.057  154.0  0.454   \n",
            "1   1 2000-05-11  0.044  3.00       51.6  14.61  17.75  0.034  352.0  0.090   \n",
            "2   1 2000-09-11  0.032  2.10       24.5   9.87  13.80  0.173  416.0  0.200   \n",
            "3   1 2000-12-13  0.170  2.23       35.6  12.40  17.13  0.099  275.2  0.377   \n",
            "4   1 2001-03-02  0.000  3.03       48.8  14.69  10.00  0.065  281.6  0.134   \n",
            "\n",
            "       CL  \n",
            "0   289.5  \n",
            "1  1792.0  \n",
            "2  2509.0  \n",
            "3  1264.0  \n",
            "4  1462.0  \n",
            "\n",
            "Columns:\n",
            " ['id', 'date', 'NH4', 'BSK5', 'Suspended', 'O2', 'NO3', 'NO2', 'SO4', 'PO4', 'CL']\n"
          ]
        }
      ]
    }
  ]
}